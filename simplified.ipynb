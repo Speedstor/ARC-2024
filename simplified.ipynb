{
 "cells": [
  {
   "cell_type": "markdown",
   "id": "dd405747",
   "metadata": {},
   "source": [
    "# Load Model"
   ]
  },
  {
   "cell_type": "code",
   "execution_count": 1,
   "id": "f2e6f531",
   "metadata": {},
   "outputs": [],
   "source": [
    "import torch\n",
    "from transformers import MistralForCausalLM, MistralConfig\n",
    "from transformers import AutoTokenizer\n",
    "\n",
    "model_folder = \"./input/wb55l_nemomini_fulleval/transformers/default/1\"\n",
    "\n",
    "model = MistralForCausalLM.from_pretrained(\n",
    "            model_folder,\n",
    "            config = MistralConfig.from_pretrained(model_folder),\n",
    "            device_map         = \"sequential\",\n",
    "            dtype                   = torch.bfloat16,\n",
    "            attn_implementation     = \"eager\",\n",
    "        )\n",
    "tokenizer = AutoTokenizer.from_pretrained(model_folder)"
   ]
  },
  {
   "cell_type": "markdown",
   "id": "317233f1",
   "metadata": {},
   "source": [
    "# Create Array for Hugging Face's `Dataset` Library\n",
    "\n",
    "Huggingface's Library need data in their `Dataset` class. \n",
    "```python\n",
    "placeholder_dataset = Dataset.from_list(\n",
    "[{'key': '00576224',\n",
    "  'train': '=434343\\n979797\\n343434\\n797979\\n434343\\n<|end_of_text|>I86\\n64\\n+/-=O868686\\n646464\\n686868\\n464646\\n868686\\n646464\\n<|end_of_text|>',\n",
    "  'query': 'I32\\n78\\n+/-=O',\n",
    "  'reply': '',\n",
    "  'input': 'say Hi to me please',\n",
    "  'text': 'say Hi to me please'}]\n",
    ")\n",
    "```"
   ]
  },
  {
   "cell_type": "code",
   "execution_count": 2,
   "id": "4c2b85bf",
   "metadata": {},
   "outputs": [],
   "source": [
    "import json\n",
    "\n",
    "class ArcDataset(object):\n",
    "    def __init__(self, queries, replies={}, keys=None, is_orig=False, is_fake=False):\n",
    "        self.queries = queries if keys is None else {k: queries[k] for k in keys}\n",
    "        self.replies = replies if keys is None else {k: replies[k] for k in keys if k in replies}\n",
    "        self.keys = sorted(queries.keys()) if keys is None else keys\n",
    "\n",
    "    @classmethod\n",
    "    def from_file(cls, queries_file):\n",
    "        print(f\"*** Load challanges from '{queries_file}'...\")\n",
    "        with open(queries_file) as f: \n",
    "            queries = f.read()\n",
    "            return cls(queries=json.loads(queries))\n",
    "\n",
    "    def get(self, key, formatter):\n",
    "        train = formatter.fmt_train(self.queries[key]['train'])\n",
    "        query = formatter.fmt_query(self.queries[key]['test'], i=len(self.queries[key]['train']))\n",
    "        reply = formatter.fmt_reply(self.replies[key], self.faulty.get(key)) if key in self.replies else ''\n",
    "        text = train+query+reply if reply else formatter.fmt_train(self.queries[key]['train'], last_is_challenge=True)\n",
    "        return dict(key=key, train=train, query=query, reply=reply, input=train+query, text=text)\n",
    "\n",
    "    def as_list(self, formatter):\n",
    "        return [self.get(key, formatter) for key in self.keys]"
   ]
  },
  {
   "cell_type": "markdown",
   "id": "b190785d",
   "metadata": {},
   "source": [
    "# Placeholder Dataset"
   ]
  },
  {
   "cell_type": "code",
   "execution_count": 3,
   "id": "e784ad9f",
   "metadata": {},
   "outputs": [
    {
     "name": "stdout",
     "output_type": "stream",
     "text": [
      "*** Load challanges from './input/arc-prize-shrink/arc-agi_test_challenges.json'...\n"
     ]
    }
   ],
   "source": [
    "from arc_loader import ArcFormatter_premix_3\n",
    "from datasets import Dataset\n",
    "\n",
    "arc_dataset_manager = ArcDataset.from_file(\"./input/arc-prize-shrink/arc-agi_test_challenges.json\")\n",
    "arc_dataset_pyarr = arc_dataset_manager.as_list(ArcFormatter_premix_3(tokenizer=tokenizer))\n",
    "placeholder_dataset = Dataset.from_list(arc_dataset_pyarr)\n",
    "\n",
    "# or\n",
    "placeholder_dataset = Dataset.from_list(\n",
    "[{'key': '00576224',\n",
    "  'train': 'ABCDEFGHJKLMNPQRSTUVWXYZabcdefghjklmnpqrstuvwxyzI79\\n43\\n+/-=O797979\\n434343\\n979797\\n343434\\n797979\\n434343\\n<|end_of_text|>I86\\n64\\n+/-=O868686\\n646464\\n686868\\n464646\\n868686\\n646464\\n<|end_of_text|>',\n",
    "  'query': 'I32\\n78\\n+/-=O',\n",
    "  'reply': '',\n",
    "  'input': 'ABCDEFGHJKLMNPQRSTUVWXYZabcdefghjklmnpqrstuvwxyzI79\\n43\\n+/-=O797979\\n434343\\n979797\\n343434\\n797979\\n434343\\n<|end_of_text|>I86\\n64\\n+/-=O868686\\n646464\\n686868\\n464646\\n868686\\n646464\\n<|end_of_text|>I32\\n78\\n+/-=O',\n",
    "  'text': 'ABCDEFGHJKLMNPQRSTUVWXYZabcdefghjklmnpqrstuvwxyzI79\\n43\\n+/-=O797979\\n434343\\n979797\\n343434\\n797979\\n434343\\n<|end_of_text|>I86\\n64\\n+/-=O868686\\n646464\\n686868\\n464646\\n868686\\n646464\\n<|end_of_text|>'}]\n",
    ");"
   ]
  },
  {
   "cell_type": "markdown",
   "id": "9f31a817",
   "metadata": {},
   "source": [
    "# TTT / Re-training\n",
    "\n",
    "TTT and re-training only differs in `training parameters`"
   ]
  },
  {
   "cell_type": "markdown",
   "id": "e76b93fc",
   "metadata": {},
   "source": [
    "To train model, it needs:\n",
    "1. model\n",
    "2. tokenizer\n",
    "3. dataset (in string)"
   ]
  },
  {
   "cell_type": "code",
   "execution_count": 4,
   "id": "2d477423",
   "metadata": {},
   "outputs": [],
   "source": [
    "\n",
    "# from unsloth import UnslothTrainer as Trainer\n",
    "# from unsloth import UnslothTrainingArguments as TrainingArguments\n",
    "# from unsloth import is_bfloat16_supported\n",
    "\n",
    "# FastLanguageModel.for_training(model)\n",
    "# max_seq_length = 4224\n",
    "\n",
    "# # attach adapters (need adapters for training on quantized model)\n",
    "# peft=dict(\n",
    "#     r=64,  # Choose any number > 0 ! Suggested 8, 16, 32, 64, 128\n",
    "#     target_modules=['q_proj', 'k_proj', 'v_proj', 'o_proj', 'gate_proj', 'up_proj', 'down_proj', 'embed_tokens', 'lm_head'],\n",
    "#     lora_alpha=16,\n",
    "#     lora_dropout=0,  # Supports any, but = 0 is optimized\n",
    "#     bias=\"none\",  # Supports any, but = \"none\" is optimized\n",
    "#     use_gradient_checkpointing=True,  # True or \"unsloth\" for very long context\n",
    "#     random_state=42,\n",
    "#     use_rslora=True,  # We support rank stabilized LoRA\n",
    "#     loftq_config=None,  # And LoftQ\n",
    "# )\n",
    "# model = FastLanguageModel.get_peft_model(model, **peft)\n",
    "\n",
    "\n",
    "\n",
    "# # Construct UnslothTrainer\n",
    "# trainer = Trainer(\n",
    "#     model=model,\n",
    "#     tokenizer=tokenizer,\n",
    "#     train_dataset=Dataset.from_list(arc_dataset_pyarr),\n",
    "#     dataset_text_field=\"text\",\n",
    "#     max_seq_length=max_seq_length,\n",
    "#     dataset_num_proc=None,\n",
    "#     args=TrainingArguments(\n",
    "#         per_device_train_batch_size = 2,\n",
    "#         gradient_accumulation_steps = 4,\n",
    "#         warmup_steps = 5,\n",
    "#         max_steps = 60,\n",
    "#         learning_rate = 2e-4,\n",
    "#         fp16 = not is_bfloat16_supported(),\n",
    "#         bf16 = is_bfloat16_supported(),\n",
    "#         logging_steps = 1,\n",
    "#         optim = \"adamw_8bit\",\n",
    "#         weight_decay = 0.01,\n",
    "#         lr_scheduler_type = \"linear\",\n",
    "#         seed = 3407,\n",
    "#         output_dir = \"outputs\",\n",
    "#         report_to = \"none\", # Use this for WandB etc\n",
    "#     ),\n",
    "# )\n",
    "\n",
    "# # Train using Unsloth\n",
    "# from unsloth import unsloth_train\n",
    "# trainer_stats = unsloth_train(trainer)"
   ]
  },
  {
   "cell_type": "markdown",
   "id": "824ffe73",
   "metadata": {},
   "source": [
    "# Remaining GPU Memory after Training"
   ]
  },
  {
   "cell_type": "code",
   "execution_count": 5,
   "id": "8d2bda0f",
   "metadata": {},
   "outputs": [
    {
     "name": "stdout",
     "output_type": "stream",
     "text": [
      "*** GPU: NVIDIA GeForce RTX 4060 Laptop GPU, used 3.56 / 7.62 GB.\n"
     ]
    }
   ],
   "source": [
    "\n",
    "def mem_info(gpu_id=0):\n",
    "    import torch\n",
    "    try:\n",
    "        gpu_stats = torch.cuda.get_device_properties(gpu_id)\n",
    "        usage = torch.cuda.max_memory_reserved() / 1024**3\n",
    "        avail = gpu_stats.total_memory / 1024**3\n",
    "        print(f\"*** GPU: {gpu_stats.name}, used {usage:.3} / {avail:.3} GB.\")\n",
    "    except: print('*** Exception occured when getting memory stats.')\n",
    "\n",
    "mem_info()\n"
   ]
  },
  {
   "cell_type": "markdown",
   "id": "fc7a55d7",
   "metadata": {},
   "source": [
    "# Retrain"
   ]
  },
  {
   "cell_type": "code",
   "execution_count": 6,
   "id": "f1c262ef",
   "metadata": {},
   "outputs": [],
   "source": [
    "# same with pre-training (with different parameters for optimal training)"
   ]
  },
  {
   "cell_type": "markdown",
   "id": "2a93f76d",
   "metadata": {},
   "source": [
    "# Run Inference"
   ]
  },
  {
   "cell_type": "code",
   "execution_count": 7,
   "id": "8112df51",
   "metadata": {},
   "outputs": [],
   "source": [
    "import torch\n",
    "i = 0  # the index of training in arc_dataset_pyarr\n",
    "\n",
    "with torch.no_grad():\n",
    "    # from unsloth import FastLanguageModel\n",
    "    # FastLanguageModel.for_inference(model)\n",
    "\n",
    "    input_text = arc_dataset_pyarr[i]['input']\n",
    "    formatter = ArcFormatter_premix_3(tokenizer=tokenizer)\n",
    "    batch = formatter.tokenizer([input_text], return_tensors='pt')\n",
    "    del batch[\"token_type_ids\"]\n",
    "\n",
    "    gen = model.generate(**batch.to(model.device), return_dict_in_generate=True, output_logits=True, use_cache=True)\n",
    "\n",
    "    tokens_out = gen['sequences'][:, torch.newaxis, batch['input_ids'].shape[-1]:].cpu().numpy().copy()\n",
    "    scores_out = torch.stack(gen['logits'], axis=-2)[:, torch.newaxis].float().cpu().numpy().copy()\n",
    "\n",
    "    outputs = [tokens_out[0], scores_out[0]]"
   ]
  },
  {
   "cell_type": "code",
   "execution_count": 8,
   "id": "a7df4c65",
   "metadata": {},
   "outputs": [
    {
     "name": "stdout",
     "output_type": "stream",
     "text": [
      "[[[15 14 15 14 15 14  4 19 20 19 20 19 20  4 14 15 14 15 14 15  4 20 19\n",
      "   20 19 20 19  4 15 14 15 14 15 14  4 19 20 19 20 19 20  4  2]]]\n",
      "[[15 14 15 14 15 14  4 19 20 19 20 19 20  4 14 15 14 15 14 15  4 20 19 20\n",
      "  19 20 19  4 15 14 15 14 15 14  4 19 20 19 20 19 20  4  2]]\n"
     ]
    }
   ],
   "source": [
    "print(tokens_out)\n",
    "print(tokens_out[0])"
   ]
  },
  {
   "cell_type": "markdown",
   "id": "d62c301e",
   "metadata": {},
   "source": [
    "# Decode Tokens"
   ]
  },
  {
   "cell_type": "code",
   "execution_count": 9,
   "id": "f9329407",
   "metadata": {},
   "outputs": [
    {
     "name": "stdout",
     "output_type": "stream",
     "text": [
      "323232\n",
      "787878\n",
      "232323\n",
      "878787\n",
      "323232\n",
      "787878\n",
      "\n",
      "[[3, 2, 3, 2, 3, 2], [7, 8, 7, 8, 7, 8], [2, 3, 2, 3, 2, 3], [8, 7, 8, 7, 8, 7], [3, 2, 3, 2, 3, 2], [7, 8, 7, 8, 7, 8]]\n"
     ]
    }
   ],
   "source": [
    "formatter = ArcFormatter_premix_3(tokenizer=tokenizer)\n",
    "decoded_outputs = [formatter.de_tokenize(*output) for output in zip(*outputs)]\n",
    "token_len, score_val, de_tokenized, scores = decoded_outputs[0]\n",
    "\n",
    "print(de_tokenized)\n",
    "\n",
    "lines_of_int_str = de_tokenized.split(\"\\n\")[:-1]\n",
    "ans = []\n",
    "for line_of_int_str in lines_of_int_str:\n",
    "    ans.append([int(ch) for ch in line_of_int_str])\n",
    "\n",
    "print(ans)\n"
   ]
  },
  {
   "cell_type": "code",
   "execution_count": 10,
   "id": "8a9a92cc",
   "metadata": {},
   "outputs": [
    {
     "name": "stdout",
     "output_type": "stream",
     "text": [
      "{'test': [{'input': [[3, 2], [7, 8]],\n",
      "           'output': [[3, 2, 3, 2, 3, 2],\n",
      "                      [7, 8, 7, 8, 7, 8],\n",
      "                      [2, 3, 2, 3, 2, 3],\n",
      "                      [8, 7, 8, 7, 8, 7],\n",
      "                      [3, 2, 3, 2, 3, 2],\n",
      "                      [7, 8, 7, 8, 7, 8]]}],\n",
      " 'train': [{'input': [[7, 9], [4, 3]],\n",
      "            'output': [[7, 9, 7, 9, 7, 9],\n",
      "                       [4, 3, 4, 3, 4, 3],\n",
      "                       [9, 7, 9, 7, 9, 7],\n",
      "                       [3, 4, 3, 4, 3, 4],\n",
      "                       [7, 9, 7, 9, 7, 9],\n",
      "                       [4, 3, 4, 3, 4, 3]]},\n",
      "           {'input': [[8, 6], [6, 4]],\n",
      "            'output': [[8, 6, 8, 6, 8, 6],\n",
      "                       [6, 4, 6, 4, 6, 4],\n",
      "                       [6, 8, 6, 8, 6, 8],\n",
      "                       [4, 6, 4, 6, 4, 6],\n",
      "                       [8, 6, 8, 6, 8, 6],\n",
      "                       [6, 4, 6, 4, 6, 4]]}]}\n"
     ]
    },
    {
     "data": {
      "image/png": "[encoded data removed]",
      "text/plain": [
       "<Figure size 900x600 with 6 Axes>"
      ]
     },
     "metadata": {},
     "output_type": "display_data"
    }
   ],
   "source": [
    "import arc_visualizer as ArcVisualizer\n",
    "import importlib\n",
    "importlib.reload(ArcVisualizer)\n",
    "import json\n",
    "from pprint import pprint\n",
    "\n",
    "# Load data directly from file\n",
    "arc_challenge_file = './input/arc-prize-shrink/arc-agi_test_challenges.json'\n",
    "\n",
    "# Load original data\n",
    "arc_data = None\n",
    "with open(arc_challenge_file, 'r') as f:\n",
    "    arc_data = json.load(f)\n",
    "\n",
    "task_id = list(arc_data.items())[0][0]\n",
    "task_entry = list(arc_data.items())[0][1]\n",
    "task_entry[\"test\"][0][\"output\"] = ans\n",
    "pprint(task_entry)\n",
    "ArcVisualizer.visualize_arc_example(task_entry['train'], task_entry['test'], task_id)\n",
    "\n",
    "# ArcVisualizer.plot(ans)"
   ]
  },
  {
   "cell_type": "code",
   "execution_count": null,
   "id": "1b114013",
   "metadata": {},
   "outputs": [],
   "source": []
  }
 ],
 "metadata": {
  "kernelspec": {
   "display_name": ".venv",
   "language": "python",
   "name": "python3"
  },
  "language_info": {
   "codemirror_mode": {
    "name": "ipython",
    "version": 3
   },
   "file_extension": ".py",
   "mimetype": "text/x-python",
   "name": "python",
   "nbconvert_exporter": "python",
   "pygments_lexer": "ipython3",
   "version": "3.10.12"
  }
 },
 "nbformat": 4,
 "nbformat_minor": 5
}
