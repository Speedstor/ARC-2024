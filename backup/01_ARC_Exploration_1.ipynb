{
 "cells": [
  {
   "cell_type": "markdown",
   "metadata": {},
   "source": [
    "# Load dataset"
   ]
  },
  {
   "cell_type": "code",
   "execution_count": 17,
   "metadata": {},
   "outputs": [
    {
     "data": {
      "text/plain": [
       "('00576224',\n",
       " {'train': [{'input': [[7, 9], [4, 3]],\n",
       "    'output': [[7, 9, 7, 9, 7, 9],\n",
       "     [4, 3, 4, 3, 4, 3],\n",
       "     [9, 7, 9, 7, 9, 7],\n",
       "     [3, 4, 3, 4, 3, 4],\n",
       "     [7, 9, 7, 9, 7, 9],\n",
       "     [4, 3, 4, 3, 4, 3]]},\n",
       "   {'input': [[8, 6], [6, 4]],\n",
       "    'output': [[8, 6, 8, 6, 8, 6],\n",
       "     [6, 4, 6, 4, 6, 4],\n",
       "     [6, 8, 6, 8, 6, 8],\n",
       "     [4, 6, 4, 6, 4, 6],\n",
       "     [8, 6, 8, 6, 8, 6],\n",
       "     [6, 4, 6, 4, 6, 4]]}],\n",
       "  'test': [{'input': [[3, 2], [7, 8]]}]})"
      ]
     },
     "execution_count": 17,
     "metadata": {},
     "output_type": "execute_result"
    }
   ],
   "source": [
    "import json\n",
    "\n",
    "# Load data directly from file\n",
    "arc_challenge_file = '../src/arc-prize-2025/arc-agi_test_challenges.json'\n",
    "\n",
    "\n",
    "# Load original data\n",
    "arc_data = None\n",
    "with open(arc_challenge_file, 'r') as f:\n",
    "    arc_data = json.load(f)\n",
    "\n",
    "list(arc_data.items())[0]"
   ]
  },
  {
   "cell_type": "markdown",
   "metadata": {},
   "source": [
    "# Formatter"
   ]
  },
  {
   "cell_type": "code",
   "execution_count": 26,
   "metadata": {},
   "outputs": [],
   "source": [
    "class TurnipFormatter:\n",
    "    def __init__(self, inp_prefix=\"Input: \", out_prefix=\"Output= \", sep=\"\\n\\n\", row_sep=\"\\n\"):\n",
    "        self.inp_prefix = inp_prefix\n",
    "        self.out_prefix = out_prefix\n",
    "        self.sep = sep\n",
    "        self.row_sep = row_sep\n",
    "\n",
    "    def array_to_str(self, array):\n",
    "        return self.row_sep.join(\"\".join(str(el) for el in row) for row in array)\n",
    "    \n",
    "    def fmt_example(self, example):\n",
    "        inp = self.array_to_str(example['input'])\n",
    "        out = self.array_to_str(example['output'])\n",
    "        return f\"{self.inp_prefix}{inp}{self.out_prefix}{out}\"\n",
    "    \n",
    "    def fmt_train(self, train_data):\n",
    "        return self.sep.join(self.fmt_example(ex) for ex in train_data)\n",
    "    \n",
    "    def fmt_query(self, test_input):\n",
    "        inp = self.array_to_str(test_input)\n",
    "        return f\"{self.inp_prefix}{inp}{self.out_prefix}\"\n",
    "    \n",
    "    def decode_output(self, output_str):\n",
    "        rows = output_str.strip().split(self.row_sep)\n",
    "        return [[int(char) for char in row] for row in rows if row]"
   ]
  },
  {
   "cell_type": "code",
   "execution_count": 27,
   "metadata": {},
   "outputs": [
    {
     "name": "stdout",
     "output_type": "stream",
     "text": [
      "Input: 79\n",
      "43Output= 797979\n",
      "434343\n",
      "979797\n",
      "343434\n",
      "797979\n",
      "434343\n",
      "\n",
      "Input: 86\n",
      "64Output= 868686\n",
      "646464\n",
      "686868\n",
      "464646\n",
      "868686\n",
      "646464\n",
      "\n",
      "Input: 32\n",
      "78Output= \n"
     ]
    }
   ],
   "source": [
    "formatter = TurnipFormatter()\n",
    "\n",
    "task = arc_data[\"00576224\"]\n",
    "train_str = formatter.fmt_train(task['train'])\n",
    "query_str = formatter.fmt_query(task['test'][0]['input'])\n",
    "\n",
    "full_prompt = train_str + formatter.sep + query_str\n",
    "\n",
    "print(full_prompt)"
   ]
  },
  {
   "cell_type": "code",
   "execution_count": 29,
   "id": "dc0aa4c4",
   "metadata": {},
   "outputs": [
    {
     "name": "stdout",
     "output_type": "stream",
     "text": [
      "\n",
      "=== Decoded Output ===\n",
      "[3, 2, 6, 3, 2, 6]\n",
      "[7, 4, 8, 7, 4, 8]\n",
      "[2, 6, 3, 2, 6, 3]\n",
      "[8, 7, 4, 8, 7, 4]\n",
      "[3, 2, 6, 3, 2, 6]\n",
      "[7, 4, 8, 7, 4, 8]\n"
     ]
    }
   ],
   "source": [
    "model_output = \"\"\"\n",
    "326326\n",
    "748748\n",
    "263263\n",
    "874874\n",
    "326326\n",
    "748748\n",
    "\"\"\"\n",
    "\n",
    "decoded = formatter.decode_output(model_output)\n",
    "print(\"\\n=== Decoded Output ===\")\n",
    "for row in decoded:\n",
    "    print(row)"
   ]
  },
  {
   "cell_type": "markdown",
   "id": "dd405747",
   "metadata": {},
   "source": [
    "# Load Model"
   ]
  },
  {
   "cell_type": "code",
   "execution_count": null,
   "id": "f2e6f531",
   "metadata": {},
   "outputs": [],
   "source": [
    "from unsloth import FastLanguageModel\n",
    "\n",
    "model_weights_folder = \"../src/\"\n",
    "\n",
    "model, tokenizer = FastLanguageModel.from_pretrained(\n",
    "    report_to=None, \n",
    "    model_name=model, \n",
    "    dtype=None, \n",
    "    load_in_4bit=True, \n",
    "    local_files_only=True)"
   ]
  },
  {
   "cell_type": "markdown",
   "id": "e76b93fc",
   "metadata": {},
   "source": [
    "To train model, it needs:\n",
    "1. model\n",
    "2. tokenizer\n",
    "3. dataset (in string)"
   ]
  },
  {
   "cell_type": "code",
   "execution_count": null,
   "id": "a3e12874",
   "metadata": {},
   "outputs": [],
   "source": [
    "from unsloth import FastLanguageModel\n",
    "from unsloth import UnslothTrainingArguments as TrainingArguments\n",
    "from unsloth import is_bfloat16_supported\n",
    "FastLanguageModel.for_training(model)\n",
    "add_train_args.update(fp16=not is_bfloat16_supported(), bf16=is_bfloat16_supported())\n",
    "\n",
    "\n",
    "from unsloth import UnslothTrainer as Trainer\n",
    "trainer = Trainer(\n",
    "    model=model,\n",
    "    tokenizer=formatter.tokenizer,\n",
    "    train_dataset=Dataset.from_list(dataset.as_list(formatter)),\n",
    "    dataset_text_field=\"text\",\n",
    "    max_seq_length=max_seq_length,\n",
    "    dataset_num_proc=None,\n",
    "    args=TrainingArguments(\n",
    "        per_device_train_batch_size = 2,\n",
    "        gradient_accumulation_steps = 4,\n",
    "        max_steps = 60, # num_train_epochs = 1,\n",
    "        learning_rate = 2e-4,\n",
    "    ),\n",
    ")\n",
    "\n",
    "from unsloth import unsloth_train\n",
    "trainer_stats = unsloth_train(trainer)"
   ]
  }
 ],
 "metadata": {
  "kernelspec": {
   "display_name": ".venv",
   "language": "python",
   "name": "python3"
  },
  "language_info": {
   "codemirror_mode": {
    "name": "ipython",
    "version": 3
   },
   "file_extension": ".py",
   "mimetype": "text/x-python",
   "name": "python",
   "nbconvert_exporter": "python",
   "pygments_lexer": "ipython3",
   "version": "3.12.9"
  }
 },
 "nbformat": 4,
 "nbformat_minor": 5
}
