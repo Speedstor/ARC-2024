{
 "cells": [
  {
   "cell_type": "code",
   "execution_count": 1,
   "metadata": {},
   "outputs": [
    {
     "data": {
      "text/plain": [
       "('00576224',\n",
       " {'train': [{'input': [[7, 9], [4, 3]],\n",
       "    'output': [[7, 9, 7, 9, 7, 9],\n",
       "     [4, 3, 4, 3, 4, 3],\n",
       "     [9, 7, 9, 7, 9, 7],\n",
       "     [3, 4, 3, 4, 3, 4],\n",
       "     [7, 9, 7, 9, 7, 9],\n",
       "     [4, 3, 4, 3, 4, 3]]},\n",
       "   {'input': [[8, 6], [6, 4]],\n",
       "    'output': [[8, 6, 8, 6, 8, 6],\n",
       "     [6, 4, 6, 4, 6, 4],\n",
       "     [6, 8, 6, 8, 6, 8],\n",
       "     [4, 6, 4, 6, 4, 6],\n",
       "     [8, 6, 8, 6, 8, 6],\n",
       "     [6, 4, 6, 4, 6, 4]]}],\n",
       "  'test': [{'input': [[3, 2], [7, 8]]}]})"
      ]
     },
     "execution_count": 1,
     "metadata": {},
     "output_type": "execute_result"
    }
   ],
   "source": [
    "import json\n",
    "\n",
    "# Load data directly from file\n",
    "arc_challenge_file = './input/arc-prize-shrink/arc-agi_test_challenges.json'\n",
    "\n",
    "\n",
    "# Load original data\n",
    "arc_data = None\n",
    "with open(arc_challenge_file, 'r') as f:\n",
    "    arc_data = json.load(f)\n",
    "\n",
    "list(arc_data.items())[0]"
   ]
  },
  {
   "cell_type": "code",
   "execution_count": null,
   "metadata": {},
   "outputs": [],
   "source": [
    "\n",
    "import arc_visualizer as ArcVisualizer\n",
    "\n",
    "ArcVisualizer.plot(json_file=\"./input/arc-prize/something.json\", key=\"\")\n",
    "\n",
    "ArcVisualizer.from_text(\"abcdefgI/10357882/12958\")\n",
    "\n",
    "ArcVisualizer.plot([[8, 6, 8, 6, 8, 6],\n",
    "                    [6, 4, 6, 4, 6, 4],\n",
    "                    [6, 8, 6, 8, 6, 8],\n",
    "                    [4, 6, 4, 6, 4, 6],\n",
    "                    [8, 6, 8, 6, 8, 6],\n",
    "                    [6, 4, 6, 4, 6, 4]])\n",
    "\n",
    "ArcVisualizer.plot(arc_data['00576224']['train'])\n",
    "ArcVisualizer.plot(arc_data['00576224']['test'])"
   ]
  }
 ],
 "metadata": {
  "kernelspec": {
   "display_name": ".venv",
   "language": "python",
   "name": "python3"
  },
  "language_info": {
   "codemirror_mode": {
    "name": "ipython",
    "version": 3
   },
   "file_extension": ".py",
   "mimetype": "text/x-python",
   "name": "python",
   "nbconvert_exporter": "python",
   "pygments_lexer": "ipython3",
   "version": "3.10.12"
  }
 },
 "nbformat": 4,
 "nbformat_minor": 2
}
